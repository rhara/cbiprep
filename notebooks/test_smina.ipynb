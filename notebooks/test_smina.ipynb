{
 "cells": [
  {
   "cell_type": "code",
   "execution_count": null,
   "metadata": {},
   "outputs": [],
   "source": [
    "%load_ext autoreload\n",
    "%autoreload 2"
   ]
  },
  {
   "cell_type": "markdown",
   "metadata": {},
   "source": [
    "# Test smina (and AmberTools)\n",
    "\n",
    "Some code is deactivated.<br/>\n",
    "Now smina is run through by a function"
   ]
  },
  {
   "cell_type": "markdown",
   "metadata": {},
   "source": [
    "### Needs rdkit>=2020.03.3"
   ]
  },
  {
   "cell_type": "code",
   "execution_count": null,
   "metadata": {},
   "outputs": [],
   "source": [
    "import rdkit\n",
    "assert '2020.03.3' <= rdkit.__version__"
   ]
  },
  {
   "cell_type": "code",
   "execution_count": null,
   "metadata": {},
   "outputs": [],
   "source": [
    "from cbiprep.ligand_expo import LigandExpo\n",
    "from cbiprep.smina import RunSmina, CheckRMSD\n",
    "from cbiprep.jupyter_utils import draw_mol, check_dir\n",
    "import pandas as pd\n",
    "import os, time, sys"
   ]
  },
  {
   "cell_type": "code",
   "execution_count": null,
   "metadata": {},
   "outputs": [],
   "source": [
    "lig_expo = LigandExpo()"
   ]
  },
  {
   "cell_type": "code",
   "execution_count": null,
   "metadata": {},
   "outputs": [],
   "source": [
    "df = pd.read_pickle('index_2019.pkl.gz')"
   ]
  },
  {
   "cell_type": "markdown",
   "metadata": {},
   "source": [
    "### SMINA docking as a function\n",
    "\n",
    "Inputs:\n",
    "- pdb_code\n",
    "- ligand_name\n",
    "- workdir = 'work'\n",
    "- ncpu = os.cpu_count()\n",
    "- num_modes = 4\n",
    "- seed = 0"
   ]
  },
  {
   "cell_type": "markdown",
   "metadata": {},
   "source": [
    "### SMINA for all PDBs"
   ]
  },
  {
   "cell_type": "code",
   "execution_count": null,
   "metadata": {},
   "outputs": [],
   "source": [
    "DF = df[(df['type'] == 'Kd') & (df['lig_ok'] == True) & (df['refined'] == True)]\n",
    "DF = DF.sort_values(by='pval', ascending=False)"
   ]
  },
  {
   "cell_type": "code",
   "execution_count": null,
   "metadata": {
    "scrolled": true
   },
   "outputs": [],
   "source": [
    "for i in DF.index:\n",
    "    r = DF.loc[i]\n",
    "    pdb_code = r['pdb']\n",
    "    ligand_name = r['lig']\n",
    "    rmsd_oname = f'work/{pdb_code}/rmsd'\n",
    "    if os.path.exists(rmsd_oname):\n",
    "        continue\n",
    "    print('-'*100)\n",
    "    start = time.time()\n",
    "    try:\n",
    "        docked_sdf = RunSmina(pdb_code, ligand_name, ncpu=10)\n",
    "    except:\n",
    "        print(f'Error: {pdb_code} {ligand_name}', file=sys.stderr)\n",
    "        continue\n",
    "    with open(rmsd_oname, 'wt') as out:\n",
    "        for i, rmsd in enumerate(CheckRMSD(pdb_code, ligand_name, docked_sdf), start=1):\n",
    "            print(i, rmsd)\n",
    "            print(i, rmsd, file=out)\n",
    "    lapse = time.time() - start\n",
    "    print(f'Lapse = {lapse:.1f}s')"
   ]
  },
  {
   "cell_type": "code",
   "execution_count": null,
   "metadata": {},
   "outputs": [],
   "source": []
  }
 ],
 "metadata": {
  "kernelspec": {
   "display_name": "Python 3",
   "language": "python",
   "name": "python3"
  },
  "language_info": {
   "codemirror_mode": {
    "name": "ipython",
    "version": 3
   },
   "file_extension": ".py",
   "mimetype": "text/x-python",
   "name": "python",
   "nbconvert_exporter": "python",
   "pygments_lexer": "ipython3",
   "version": "3.7.7"
  }
 },
 "nbformat": 4,
 "nbformat_minor": 4
}
