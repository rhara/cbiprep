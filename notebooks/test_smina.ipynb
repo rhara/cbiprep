{
 "cells": [
  {
   "cell_type": "code",
   "execution_count": null,
   "metadata": {},
   "outputs": [],
   "source": [
    "%load_ext autoreload\n",
    "%autoreload 2"
   ]
  },
  {
   "cell_type": "markdown",
   "metadata": {},
   "source": [
    "# Test smina (and AmberTools)\n",
    "\n",
    "Some code is deactivated.<br/>\n",
    "Now smina is run through by a function"
   ]
  },
  {
   "cell_type": "markdown",
   "metadata": {},
   "source": [
    "### Needs rdkit>=2020.03.3"
   ]
  },
  {
   "cell_type": "code",
   "execution_count": null,
   "metadata": {},
   "outputs": [],
   "source": [
    "import rdkit\n",
    "assert '2020.03.3' <= rdkit.__version__"
   ]
  },
  {
   "cell_type": "code",
   "execution_count": null,
   "metadata": {},
   "outputs": [],
   "source": [
    "from cbiprep.ligand_expo import LigandExpo\n",
    "from cbiprep.smina import RunSmina, CheckRMSD\n",
    "from cbiprep.jupyter_utils import draw_mol, check_dir\n",
    "import pandas as pd\n",
    "import os, time, sys, random"
   ]
  },
  {
   "cell_type": "code",
   "execution_count": null,
   "metadata": {},
   "outputs": [],
   "source": [
    "lig_expo = LigandExpo()"
   ]
  },
  {
   "cell_type": "code",
   "execution_count": null,
   "metadata": {},
   "outputs": [],
   "source": [
    "df = pd.read_pickle('index_2019.pkl.gz')"
   ]
  },
  {
   "cell_type": "markdown",
   "metadata": {},
   "source": [
    "### SMINA docking as a function\n",
    "\n",
    "Inputs:\n",
    "- pdb_code\n",
    "- ligand_name\n",
    "- workdir = 'work'\n",
    "- ncpu = os.cpu_count()\n",
    "- num_modes = 4\n",
    "- seed = 0"
   ]
  },
  {
   "cell_type": "markdown",
   "metadata": {},
   "source": [
    "### SMINA for all PDBs"
   ]
  },
  {
   "cell_type": "code",
   "execution_count": null,
   "metadata": {},
   "outputs": [],
   "source": [
    "DF = df[(df['type'] == 'Kd') & (df['lig_ok'] == True) & (df['refined'] == True)]"
   ]
  },
  {
   "cell_type": "raw",
   "metadata": {},
   "source": [
    "from rdkit import Chem\n",
    "from rdkit.Chem.rdMolAlign import GetBestRMS\n",
    "from cbiprep.pdbatoms import PDBAtoms\n",
    "import subprocess as sp\n",
    "\n",
    "def RunSmina(pdb_code, ligand_name, ncpu=0, workdir='work', num_modes=4, seed=0):\n",
    "    if ncpu == 0:\n",
    "        ncpu = os.cpu_count()\n",
    "    ligand_sdf = f'{workdir}/{pdb_code}/{pdb_code}_ligand_{ligand_name}.sdf'\n",
    "    print(ligand_sdf)\n",
    "    for ligand_mol in Chem.SDMolSupplier(ligand_sdf):\n",
    "        break\n",
    "    print(ligand_mol)\n",
    "    pdb_atoms = PDBAtoms(f'pdb/{pdb_code}.pdb.gz')\n",
    "    lig_atoms = pdb_atoms.get_ligand(ligand_name)\n",
    "    protein_atoms = pdb_atoms.get_relevant_protein(lig_atoms, thres=4)\n",
    "    print(len(protein_atoms))\n",
    "    \n",
    "    protein_pdb = f'{workdir}/{pdb_code}/{pdb_code}_relevant.pdb'\n",
    "    open(protein_pdb, 'wt').write(str(protein_atoms))\n",
    "    \n",
    "    tleaprc_template = os.path.abspath(os.path.dirname(Chem.__file__) + '/../../../../../cbiprep/data/tleaprc.template')\n",
    "\n",
    "    tleap_log = f'{workdir}/{pdb_code}/{pdb_code}_tleap.log'\n",
    "    test = f'{workdir}/{pdb_code}/{pdb_code}_relevant.pdb'\n",
    "    save_mol2 = f'{workdir}/{pdb_code}/{pdb_code}_relevant.mol2'\n",
    "    tleaprc = f'{workdir}/{pdb_code}/{pdb_code}_tleaprc'\n",
    "    cont = open(tleaprc_template, 'rt').read()\n",
    "    cont = cont.replace('{{logFile}}', tleap_log).replace('{{test}}', test).replace('{{saveMol2}}', save_mol2)\n",
    "    open(tleaprc, 'wt').write(cont)\n",
    "\n",
    "    command = f'tleap -s -f {tleaprc} > /dev/null 2>&1'\n",
    "    sp.call(command, shell=True)\n",
    "    \n",
    "    fixed_receptor = f'{workdir}/{pdb_code}/{pdb_code}_charged.mol2'\n",
    "    command = f'obabel {save_mol2} -O {fixed_receptor} > /dev/null 2>&1'\n",
    "    sp.call(command, shell=True)\n",
    "    \n",
    "    boxpars = sp.check_output(f'ligand_center {ligand_sdf}', shell=True).decode().strip()\n",
    "    \n",
    "    docked_sdf = f'{workdir}/{pdb_code}/{pdb_code}_ligand_{ligand_name}_docked.sdf'\n",
    "    smina_log = f'work/{pdb_code}/{pdb_code}_ligand_{ligand_name}_smina.log'\n",
    "    command = f'smina -r {fixed_receptor} -l {ligand_sdf} {boxpars} --cpu {ncpu} --num_modes {num_modes} --seed {seed} -o {docked_sdf} --log {smina_log}'\n",
    "    print(command)\n",
    "    sp.call(command, shell=True)\n",
    "\n",
    "    return docked_sdf\n",
    "\n",
    "def CheckRMSD(pdb_code, ligand_name, docked_sdf, workdir='work'):\n",
    "    for xray_ligand in Chem.SDMolSupplier(f'{workdir}/{pdb_code}/{pdb_code}_ligand_{ligand_name}.sdf'):\n",
    "        break\n",
    "    rmsds = []\n",
    "    for mol in Chem.SDMolSupplier(docked_sdf):\n",
    "        rmsd = GetBestRMS(mol, xray_ligand)\n",
    "        rmsds.append(round(rmsd, 3))\n",
    "    return rmsds\n",
    "        "
   ]
  },
  {
   "cell_type": "code",
   "execution_count": null,
   "metadata": {
    "scrolled": false
   },
   "outputs": [],
   "source": [
    "indices = list(DF.index)\n",
    "random.shuffle(indices)\n",
    "for idx in indices:\n",
    "    r = DF.loc[idx]\n",
    "    pdb_code = r['pdb']\n",
    "    ligand_name = r['lig']\n",
    "    rmsd_oname = f'work/{pdb_code}/rmsd'\n",
    "    if os.path.exists(rmsd_oname):\n",
    "        continue\n",
    "    print('-'*100)\n",
    "    start = time.time()\n",
    "    try:\n",
    "        docked_sdf = RunSmina(pdb_code, ligand_name, ncpu=12)\n",
    "    except:\n",
    "        print(f'Error: {pdb_code} {ligand_name}', file=sys.stderr)\n",
    "        continue\n",
    "    with open(rmsd_oname, 'wt') as out:\n",
    "        for i, rmsd in enumerate(CheckRMSD(pdb_code, ligand_name, docked_sdf), start=1):\n",
    "            print(i, rmsd)\n",
    "            print(i, rmsd, file=out)\n",
    "    lapse = time.time() - start\n",
    "    print(f'Lapse = {lapse:.1f}s')"
   ]
  },
  {
   "cell_type": "code",
   "execution_count": null,
   "metadata": {},
   "outputs": [],
   "source": []
  },
  {
   "cell_type": "code",
   "execution_count": null,
   "metadata": {},
   "outputs": [],
   "source": []
  }
 ],
 "metadata": {
  "kernelspec": {
   "display_name": "Python 3",
   "language": "python",
   "name": "python3"
  },
  "language_info": {
   "codemirror_mode": {
    "name": "ipython",
    "version": 3
   },
   "file_extension": ".py",
   "mimetype": "text/x-python",
   "name": "python",
   "nbconvert_exporter": "python",
   "pygments_lexer": "ipython3",
   "version": "3.7.7"
  }
 },
 "nbformat": 4,
 "nbformat_minor": 4
}
