{
 "cells": [
  {
   "cell_type": "code",
   "execution_count": 1,
   "metadata": {},
   "outputs": [],
   "source": [
    "%load_ext autoreload\n",
    "%autoreload 2"
   ]
  },
  {
   "cell_type": "markdown",
   "metadata": {},
   "source": [
    "# Test smina (and AmberTools)\n",
    "\n",
    "(Not completed)"
   ]
  },
  {
   "cell_type": "code",
   "execution_count": 2,
   "metadata": {},
   "outputs": [
    {
     "name": "stderr",
     "output_type": "stream",
     "text": [
      "RDKit WARNING: [02:12:01] Enabling RDKit 2019.09.3 jupyter extensions\n"
     ]
    }
   ],
   "source": [
    "from rdkit import Chem\n",
    "from cbiprep.pdbatoms import PDBAtoms\n",
    "from cbiprep.ligand_expo import LigandExpo\n",
    "import pandas as pd\n",
    "import subprocess as sp\n",
    "import os, re"
   ]
  },
  {
   "cell_type": "code",
   "execution_count": 3,
   "metadata": {},
   "outputs": [],
   "source": [
    "pdb_code = '4jn2'"
   ]
  },
  {
   "cell_type": "code",
   "execution_count": 4,
   "metadata": {},
   "outputs": [
    {
     "data": {
      "text/plain": [
       "8217"
      ]
     },
     "execution_count": 4,
     "metadata": {},
     "output_type": "execute_result"
    }
   ],
   "source": [
    "pdb_atoms = PDBAtoms(f'pdb/{pdb_code}.pdb.gz')\n",
    "len(pdb_atoms)"
   ]
  },
  {
   "cell_type": "code",
   "execution_count": 5,
   "metadata": {},
   "outputs": [],
   "source": [
    "lig_expo = LigandExpo()"
   ]
  },
  {
   "cell_type": "code",
   "execution_count": 6,
   "metadata": {},
   "outputs": [],
   "source": [
    "df = pd.read_pickle('index_2019.pkl.gz')"
   ]
  },
  {
   "cell_type": "code",
   "execution_count": 7,
   "metadata": {},
   "outputs": [
    {
     "data": {
      "text/plain": [
       "'4CC'"
      ]
     },
     "execution_count": 7,
     "metadata": {},
     "output_type": "execute_result"
    }
   ],
   "source": [
    "lig_name = df[df['pdb'] == pdb_code]['lig'].item()\n",
    "lig_name"
   ]
  },
  {
   "cell_type": "code",
   "execution_count": 8,
   "metadata": {},
   "outputs": [],
   "source": [
    "lig_atoms = pdb_atoms.get_ligand(lig_name)"
   ]
  },
  {
   "cell_type": "code",
   "execution_count": 9,
   "metadata": {},
   "outputs": [
    {
     "data": {
      "text/plain": [
       "3336"
      ]
     },
     "execution_count": 9,
     "metadata": {},
     "output_type": "execute_result"
    }
   ],
   "source": [
    "protein_atoms = pdb_atoms.get_relevant_protein(lig_atoms, thres=4)\n",
    "len(protein_atoms)"
   ]
  },
  {
   "cell_type": "code",
   "execution_count": 10,
   "metadata": {},
   "outputs": [
    {
     "data": {
      "image/png": "[encoded data removed]",
      "text/plain": [
       "<rdkit.Chem.rdchem.Mol at 0x7eff78a0f8f0>"
      ]
     },
     "execution_count": 10,
     "metadata": {},
     "output_type": "execute_result"
    }
   ],
   "source": [
    "for lig_mol in Chem.SDMolSupplier(f'work/{pdb_code}/{pdb_code}_ligand_{lig_name}.sdf'):\n",
    "    break\n",
    "lig_mol"
   ]
  },
  {
   "cell_type": "code",
   "execution_count": 11,
   "metadata": {},
   "outputs": [
    {
     "data": {
      "text/plain": [
       "'Cn1c(CNc2ccc(C(=N)N)cc2)nc2cc(C(=O)N(CCC(=O)O)c3ccccn3)ccc21'"
      ]
     },
     "execution_count": 11,
     "metadata": {},
     "output_type": "execute_result"
    }
   ],
   "source": [
    "smi = Chem.MolToSmiles(lig_mol)\n",
    "smi"
   ]
  },
  {
   "cell_type": "code",
   "execution_count": 12,
   "metadata": {},
   "outputs": [
    {
     "data": {
      "image/png": "[encoded data removed]",
      "text/plain": [
       "<rdkit.Chem.rdchem.Mol at 0x7eff474eeda0>"
      ]
     },
     "execution_count": 12,
     "metadata": {},
     "output_type": "execute_result"
    }
   ],
   "source": [
    "mol_2D = Chem.MolFromSmiles(Chem.MolToSmiles(lig_mol))\n",
    "mol_2D"
   ]
  },
  {
   "cell_type": "code",
   "execution_count": 13,
   "metadata": {},
   "outputs": [
    {
     "data": {
      "text/plain": [
       "270216"
      ]
     },
     "execution_count": 13,
     "metadata": {},
     "output_type": "execute_result"
    }
   ],
   "source": [
    "oname = f'work/{pdb_code}/{pdb_code}_relevant.pdb'\n",
    "open(oname, 'wt').write(str(protein_atoms) + '\\n')"
   ]
  },
  {
   "cell_type": "code",
   "execution_count": 14,
   "metadata": {},
   "outputs": [
    {
     "name": "stdout",
     "output_type": "stream",
     "text": [
      "合計 1664\r\n",
      "-rw-r--r-- 1 rhara users 661445  8月 10 02:06 4jn2_charged.mol2\r\n",
      "-rw-r--r-- 1 rhara users   3021  8月  9 19:03 4jn2_ligand_4CC.sdf\r\n",
      "-rw-r--r-- 1 rhara users  14816  8月 10 02:07 4jn2_ligand_4CC_docked.sdf\r\n",
      "-rw-r--r-- 1 rhara users    991  8月 10 02:07 4jn2_ligand_4CC_smina.log\r\n",
      "-rw-r--r-- 1 rhara users  15228  8月  9 19:03 4jn2_pocket.pdb\r\n",
      "-rw-r--r-- 1 rhara users 645864  8月 10 02:06 4jn2_relevant.mol2\r\n",
      "-rw-r--r-- 1 rhara users 270216  8月 10 02:12 4jn2_relevant.pdb\r\n",
      "-rw-r--r-- 1 rhara users  66120  8月 10 02:06 4jn2_tleap.log\r\n",
      "-rw-r--r-- 1 rhara users   5403  8月 10 02:06 4jn2_tleaprc\r\n"
     ]
    }
   ],
   "source": [
    "!ls -l work/4jn2"
   ]
  },
  {
   "cell_type": "markdown",
   "metadata": {},
   "source": [
    "### tleap (protein structure prep)"
   ]
  },
  {
   "cell_type": "code",
   "execution_count": 15,
   "metadata": {},
   "outputs": [
    {
     "data": {
      "text/plain": [
       "True"
      ]
     },
     "execution_count": 15,
     "metadata": {},
     "output_type": "execute_result"
    }
   ],
   "source": [
    "tleaprc_template = os.path.abspath(os.path.dirname(Chem.__file__) + '/../../../../../cbiprep/data/tleaprc.template')\n",
    "os.path.exists(tleaprc_template)"
   ]
  },
  {
   "cell_type": "code",
   "execution_count": 16,
   "metadata": {},
   "outputs": [
    {
     "data": {
      "text/plain": [
       "5403"
      ]
     },
     "execution_count": 16,
     "metadata": {},
     "output_type": "execute_result"
    }
   ],
   "source": [
    "logFile = f'work/{pdb_code}/{pdb_code}_tleap.log'\n",
    "test = f'work/{pdb_code}/{pdb_code}_relevant.pdb'\n",
    "saveMol2 = f'work/{pdb_code}/{pdb_code}_relevant.mol2'\n",
    "oname = f'work/{pdb_code}/{pdb_code}_tleaprc'\n",
    "cont = open(tleaprc_template, 'rt').read()\n",
    "cont = cont.replace('{{logFile}}', logFile).replace('{{test}}', test).replace('{{saveMol2}}', saveMol2)\n",
    "open(oname, 'wt').write(cont)"
   ]
  },
  {
   "cell_type": "code",
   "execution_count": 17,
   "metadata": {
    "scrolled": true
   },
   "outputs": [
    {
     "data": {
      "text/plain": [
       "0"
      ]
     },
     "execution_count": 17,
     "metadata": {},
     "output_type": "execute_result"
    }
   ],
   "source": [
    "command = f'tleap -s -f {oname} > /dev/null 2>&1'\n",
    "sp.call(command, shell=True)"
   ]
  },
  {
   "cell_type": "markdown",
   "metadata": {},
   "source": [
    "### Docking by SMINA"
   ]
  },
  {
   "cell_type": "code",
   "execution_count": 18,
   "metadata": {},
   "outputs": [
    {
     "data": {
      "text/plain": [
       "0"
      ]
     },
     "execution_count": 18,
     "metadata": {},
     "output_type": "execute_result"
    }
   ],
   "source": [
    "receptor = f'work/{pdb_code}/{pdb_code}_charged.mol2'\n",
    "command = f'obabel {saveMol2} -O {receptor} > /dev/null 2>&1'\n",
    "sp.call(command, shell=True)"
   ]
  },
  {
   "cell_type": "code",
   "execution_count": 19,
   "metadata": {},
   "outputs": [],
   "source": [
    "ligand = f'work/{pdb_code}/{pdb_code}_ligand_{lig_name}.sdf'"
   ]
  },
  {
   "cell_type": "code",
   "execution_count": 20,
   "metadata": {},
   "outputs": [
    {
     "data": {
      "text/plain": [
       "'--center_x -36.929 --center_y 56.106 --center_z 3.746 --size_x 17.329 --size_y 21.632 --size_z 19.077'"
      ]
     },
     "execution_count": 20,
     "metadata": {},
     "output_type": "execute_result"
    }
   ],
   "source": [
    "boxpars = sp.check_output(f'ligand_center {ligand}', shell=True).decode().strip()\n",
    "boxpars"
   ]
  },
  {
   "cell_type": "code",
   "execution_count": 21,
   "metadata": {},
   "outputs": [],
   "source": [
    "ncpu = 10\n",
    "num_modes = 4\n",
    "seed = 0\n",
    "oname = f'work/{pdb_code}/{pdb_code}_ligand_{lig_name}_docked.sdf'\n",
    "logname = f'work/{pdb_code}/{pdb_code}_ligand_{lig_name}_smina.log'"
   ]
  },
  {
   "cell_type": "code",
   "execution_count": 22,
   "metadata": {},
   "outputs": [
    {
     "data": {
      "text/plain": [
       "0"
      ]
     },
     "execution_count": 22,
     "metadata": {},
     "output_type": "execute_result"
    }
   ],
   "source": [
    "command = f'smina -r {receptor} -l {ligand} {boxpars} --cpu {ncpu} --num_modes {num_modes} --seed {seed} -o {oname} --log {logname}'\n",
    "sp.call(command, shell=True)"
   ]
  },
  {
   "cell_type": "code",
   "execution_count": 23,
   "metadata": {},
   "outputs": [
    {
     "name": "stdout",
     "output_type": "stream",
     "text": [
      "合計 1676\n",
      "-rw-r--r-- 1 rhara users 661445  8月 10 02:12 4jn2_charged.mol2\n",
      "-rw-r--r-- 1 rhara users   3021  8月  9 19:03 4jn2_ligand_4CC.sdf\n",
      "-rw-r--r-- 1 rhara users  14816  8月 10 02:12 4jn2_ligand_4CC_docked.sdf\n",
      "-rw-r--r-- 1 rhara users    991  8月 10 02:12 4jn2_ligand_4CC_smina.log\n",
      "-rw-r--r-- 1 rhara users  15228  8月  9 19:03 4jn2_pocket.pdb\n",
      "-rw-r--r-- 1 rhara users 645864  8月 10 02:12 4jn2_relevant.mol2\n",
      "-rw-r--r-- 1 rhara users 270216  8月 10 02:12 4jn2_relevant.pdb\n",
      "-rw-r--r-- 1 rhara users  79344  8月 10 02:12 4jn2_tleap.log\n",
      "-rw-r--r-- 1 rhara users   5403  8月 10 02:12 4jn2_tleaprc\n"
     ]
    }
   ],
   "source": [
    "!ls -l work/4jn2"
   ]
  },
  {
   "cell_type": "code",
   "execution_count": null,
   "metadata": {},
   "outputs": [],
   "source": []
  }
 ],
 "metadata": {
  "kernelspec": {
   "display_name": "Python 3",
   "language": "python",
   "name": "python3"
  },
  "language_info": {
   "codemirror_mode": {
    "name": "ipython",
    "version": 3
   },
   "file_extension": ".py",
   "mimetype": "text/x-python",
   "name": "python",
   "nbconvert_exporter": "python",
   "pygments_lexer": "ipython3",
   "version": "3.7.7"
  }
 },
 "nbformat": 4,
 "nbformat_minor": 4
}
