{
 "cells": [
  {
   "cell_type": "code",
   "execution_count": 1,
   "metadata": {},
   "outputs": [
    {
     "name": "stderr",
     "output_type": "stream",
     "text": [
      "RDKit WARNING: [21:59:12] Enabling RDKit 2019.09.3 jupyter extensions\n"
     ]
    }
   ],
   "source": [
    "import pandas as pd\n",
    "import numpy as np\n",
    "from rdkit import Chem\n",
    "from cbiprep.pdbatoms import PDBAtoms\n",
    "from cbiprep.ligand_expo import LigandExpo\n",
    "from cbiprep.atomtyper import AtomTyper, HybAtomTyper\n",
    "\n",
    "np.set_printoptions(edgeitems=8)"
   ]
  },
  {
   "cell_type": "code",
   "execution_count": 2,
   "metadata": {},
   "outputs": [],
   "source": [
    "pdb_atoms = PDBAtoms('pdb/4jn2.pdb.gz')"
   ]
  },
  {
   "cell_type": "code",
   "execution_count": 3,
   "metadata": {},
   "outputs": [
    {
     "data": {
      "text/plain": [
       "['4CC', 'GOL']"
      ]
     },
     "execution_count": 3,
     "metadata": {},
     "output_type": "execute_result"
    }
   ],
   "source": [
    "pdb_atoms.get_ligand_names()"
   ]
  },
  {
   "cell_type": "code",
   "execution_count": 4,
   "metadata": {},
   "outputs": [],
   "source": [
    "ligand_atoms = pdb_atoms.get_ligand('4CC')"
   ]
  },
  {
   "cell_type": "code",
   "execution_count": 5,
   "metadata": {},
   "outputs": [
    {
     "data": {
      "text/plain": [
       "35"
      ]
     },
     "execution_count": 5,
     "metadata": {},
     "output_type": "execute_result"
    }
   ],
   "source": [
    "len(ligand_atoms)"
   ]
  },
  {
   "cell_type": "code",
   "execution_count": 6,
   "metadata": {},
   "outputs": [],
   "source": [
    "protein_atoms = pdb_atoms.get_relevant_protein(ligand_atoms)"
   ]
  },
  {
   "cell_type": "code",
   "execution_count": 7,
   "metadata": {},
   "outputs": [
    {
     "data": {
      "text/plain": [
       "3336"
      ]
     },
     "execution_count": 7,
     "metadata": {},
     "output_type": "execute_result"
    }
   ],
   "source": [
    "len(protein_atoms)"
   ]
  },
  {
   "cell_type": "code",
   "execution_count": 8,
   "metadata": {
    "scrolled": false
   },
   "outputs": [
    {
     "data": {
      "text/plain": [
       "15228"
      ]
     },
     "execution_count": 8,
     "metadata": {},
     "output_type": "execute_result"
    }
   ],
   "source": [
    "pocket_atoms = protein_atoms.get_pocket(ligand_atoms, thres=5)\n",
    "open('pocket.pdb', 'wt').write(str(pocket_atoms)+'\\n')"
   ]
  },
  {
   "cell_type": "code",
   "execution_count": 9,
   "metadata": {},
   "outputs": [
    {
     "data": {
      "text/plain": [
       "188"
      ]
     },
     "execution_count": 9,
     "metadata": {},
     "output_type": "execute_result"
    }
   ],
   "source": [
    "len(pocket_atoms)"
   ]
  },
  {
   "cell_type": "markdown",
   "metadata": {},
   "source": [
    "### Test distance-based adjacency matrix"
   ]
  },
  {
   "cell_type": "code",
   "execution_count": 10,
   "metadata": {
    "scrolled": true
   },
   "outputs": [
    {
     "data": {
      "text/plain": [
       "array([[0, 1, 1, 1, 1, 0, 0, 1, ..., 0, 0, 0, 0, 0, 0, 0, 0],\n",
       "       [1, 0, 1, 1, 1, 1, 0, 0, ..., 0, 0, 0, 0, 0, 0, 0, 0],\n",
       "       [1, 1, 0, 1, 0, 1, 0, 0, ..., 0, 0, 0, 0, 0, 0, 0, 0],\n",
       "       [1, 1, 1, 0, 1, 0, 0, 1, ..., 0, 0, 0, 0, 0, 0, 0, 0],\n",
       "       [1, 1, 0, 1, 0, 0, 0, 0, ..., 0, 0, 0, 0, 0, 0, 0, 0],\n",
       "       [0, 1, 1, 0, 0, 0, 1, 0, ..., 0, 0, 0, 0, 0, 0, 0, 0],\n",
       "       [0, 0, 0, 0, 0, 1, 0, 0, ..., 1, 0, 1, 0, 0, 0, 0, 0],\n",
       "       [1, 0, 0, 1, 0, 0, 0, 0, ..., 0, 1, 0, 0, 0, 1, 0, 0],\n",
       "       ...,\n",
       "       [0, 0, 0, 0, 0, 0, 1, 0, ..., 0, 0, 1, 0, 0, 0, 0, 0],\n",
       "       [0, 0, 0, 0, 0, 0, 0, 1, ..., 0, 0, 0, 0, 0, 1, 1, 1],\n",
       "       [0, 0, 0, 0, 0, 0, 1, 0, ..., 1, 0, 0, 0, 0, 0, 0, 0],\n",
       "       [0, 0, 0, 0, 0, 0, 0, 0, ..., 0, 0, 0, 0, 1, 0, 0, 0],\n",
       "       [0, 0, 0, 0, 0, 0, 0, 0, ..., 0, 0, 0, 1, 0, 0, 0, 0],\n",
       "       [0, 0, 0, 0, 0, 0, 0, 1, ..., 0, 1, 0, 0, 0, 0, 1, 1],\n",
       "       [0, 0, 0, 0, 0, 0, 0, 0, ..., 0, 1, 0, 0, 0, 1, 0, 1],\n",
       "       [0, 0, 0, 0, 0, 0, 0, 0, ..., 0, 1, 0, 0, 0, 1, 1, 0]])"
      ]
     },
     "execution_count": 10,
     "metadata": {},
     "output_type": "execute_result"
    }
   ],
   "source": [
    "lig_adjmat = ligand_atoms.get_distance_based_adjacency_matrix(ligand_atoms, thres=4.0, diagzero=True)\n",
    "lig_adjmat"
   ]
  },
  {
   "cell_type": "code",
   "execution_count": 11,
   "metadata": {},
   "outputs": [
    {
     "data": {
      "text/plain": [
       "array([[0, 1, 1, 1, 1, 1, 0, 0, ..., 0, 0, 0, 0, 0, 0, 0, 0],\n",
       "       [1, 0, 1, 1, 1, 1, 1, 1, ..., 0, 0, 0, 0, 0, 0, 0, 0],\n",
       "       [1, 1, 0, 1, 1, 1, 1, 1, ..., 0, 0, 0, 0, 0, 0, 0, 0],\n",
       "       [1, 1, 1, 0, 1, 0, 0, 0, ..., 0, 0, 0, 0, 0, 0, 0, 0],\n",
       "       [1, 1, 1, 1, 0, 1, 1, 1, ..., 0, 0, 0, 0, 0, 0, 0, 0],\n",
       "       [1, 1, 1, 0, 1, 0, 1, 1, ..., 0, 0, 0, 0, 0, 0, 0, 0],\n",
       "       [0, 1, 1, 0, 1, 1, 0, 1, ..., 0, 0, 0, 0, 0, 0, 0, 0],\n",
       "       [0, 1, 1, 0, 1, 1, 1, 0, ..., 0, 0, 0, 0, 0, 0, 0, 0],\n",
       "       ...,\n",
       "       [0, 0, 0, 0, 0, 0, 0, 0, ..., 0, 1, 0, 0, 0, 0, 0, 0],\n",
       "       [0, 0, 0, 0, 0, 0, 0, 0, ..., 1, 0, 1, 1, 1, 1, 1, 0],\n",
       "       [0, 0, 0, 0, 0, 0, 0, 0, ..., 0, 1, 0, 1, 1, 1, 1, 1],\n",
       "       [0, 0, 0, 0, 0, 0, 0, 0, ..., 0, 1, 1, 0, 1, 1, 1, 1],\n",
       "       [0, 0, 0, 0, 0, 0, 0, 0, ..., 0, 1, 1, 1, 0, 1, 1, 1],\n",
       "       [0, 0, 0, 0, 0, 0, 0, 0, ..., 0, 1, 1, 1, 1, 0, 1, 1],\n",
       "       [0, 0, 0, 0, 0, 0, 0, 0, ..., 0, 1, 1, 1, 1, 1, 0, 1],\n",
       "       [0, 0, 0, 0, 0, 0, 0, 0, ..., 0, 0, 1, 1, 1, 1, 1, 0]])"
      ]
     },
     "execution_count": 11,
     "metadata": {},
     "output_type": "execute_result"
    }
   ],
   "source": [
    "pocket_adjmat = pocket_atoms.get_distance_based_adjacency_matrix(pocket_atoms, thres=4.0, diagzero=True)\n",
    "pocket_adjmat"
   ]
  },
  {
   "cell_type": "code",
   "execution_count": 12,
   "metadata": {
    "scrolled": true
   },
   "outputs": [
    {
     "data": {
      "text/plain": [
       "array([[0, 0, 0, 0, 0, 0, 0, 0, ..., 0, 0, 0, 0, 0, 0, 0, 0],\n",
       "       [0, 0, 0, 0, 0, 0, 0, 0, ..., 0, 0, 0, 0, 0, 0, 0, 0],\n",
       "       [0, 0, 0, 0, 0, 0, 0, 0, ..., 0, 0, 0, 0, 0, 0, 0, 0],\n",
       "       [0, 0, 0, 0, 0, 0, 0, 0, ..., 0, 0, 0, 0, 0, 0, 0, 0],\n",
       "       [0, 0, 0, 0, 0, 0, 0, 0, ..., 0, 0, 0, 0, 0, 0, 0, 0],\n",
       "       [0, 0, 0, 0, 0, 0, 0, 0, ..., 0, 0, 0, 0, 0, 0, 0, 0],\n",
       "       [0, 0, 0, 0, 0, 0, 0, 0, ..., 0, 0, 0, 0, 0, 0, 0, 0],\n",
       "       [0, 0, 0, 0, 0, 0, 0, 0, ..., 0, 0, 0, 0, 0, 0, 0, 0],\n",
       "       ...,\n",
       "       [0, 0, 0, 0, 0, 0, 0, 0, ..., 0, 0, 0, 0, 0, 0, 0, 0],\n",
       "       [0, 0, 0, 0, 0, 0, 0, 0, ..., 0, 0, 0, 0, 0, 0, 0, 0],\n",
       "       [0, 0, 0, 0, 0, 0, 0, 0, ..., 0, 0, 0, 0, 0, 0, 0, 0],\n",
       "       [0, 0, 0, 0, 0, 0, 0, 0, ..., 0, 0, 0, 0, 0, 0, 0, 0],\n",
       "       [0, 0, 0, 0, 0, 0, 0, 0, ..., 0, 0, 0, 0, 0, 0, 0, 0],\n",
       "       [0, 0, 0, 0, 0, 0, 0, 0, ..., 0, 0, 0, 0, 0, 0, 0, 0],\n",
       "       [0, 0, 0, 0, 0, 0, 0, 0, ..., 0, 0, 0, 0, 0, 0, 1, 0],\n",
       "       [0, 0, 0, 0, 0, 0, 0, 0, ..., 0, 0, 0, 0, 0, 0, 0, 0]])"
      ]
     },
     "execution_count": 12,
     "metadata": {},
     "output_type": "execute_result"
    }
   ],
   "source": [
    "complex_adjmat = ligand_atoms.get_distance_based_adjacency_matrix(pocket_atoms, thres=4.0)\n",
    "complex_adjmat"
   ]
  },
  {
   "cell_type": "markdown",
   "metadata": {},
   "source": [
    "### Test atom typings"
   ]
  },
  {
   "cell_type": "code",
   "execution_count": 13,
   "metadata": {},
   "outputs": [
    {
     "name": "stdout",
     "output_type": "stream",
     "text": [
      "Cn1c(CNc2ccc(C(=N)N)cc2)nc2cc(C(=O)N(CCC(=O)O)c3ccccn3)ccc21\n"
     ]
    }
   ],
   "source": [
    "expo_dic = LigandExpo()\n",
    "ligand_mol = expo_dic.assign(ligand_atoms, '4CC')\n",
    "print(Chem.MolToSmiles(ligand_mol))"
   ]
  },
  {
   "cell_type": "code",
   "execution_count": 14,
   "metadata": {},
   "outputs": [
    {
     "data": {
      "text/plain": [
       "array([ 8,  4,  4,  4,  1,  4,  4,  4,  4,  4,  4,  2,  4,  4,  8,  4,  1,\n",
       "        2,  6,  6, 10,  4,  1,  4,  8,  1,  4,  4,  4,  4, 10, 10,  2,  6,\n",
       "        6])"
      ]
     },
     "execution_count": 14,
     "metadata": {},
     "output_type": "execute_result"
    }
   ],
   "source": [
    "atomtyper = HybAtomTyper()\n",
    "v = atomtyper(ligand_mol)\n",
    "v"
   ]
  },
  {
   "cell_type": "code",
   "execution_count": 15,
   "metadata": {
    "scrolled": false
   },
   "outputs": [
    {
     "name": "stdout",
     "output_type": "stream",
     "text": [
      "  0 N          hyb=5 v,d=3,3\n",
      "  1 C(1H)      hyb=5 v,d=4,3\n",
      "  2 C(1H)      hyb=5 v,d=4,3\n",
      "  3 C          hyb=5 v,d=4,3\n",
      "  4 C(3H)      hyb=3 v,d=4,4\n",
      "  5 C          hyb=5 v,d=4,3\n",
      "  6 C          hyb=5 v,d=4,3\n",
      "  7 C(1H)      hyb=5 v,d=4,3\n",
      "  8 C(1H)      hyb=5 v,d=4,3\n",
      "  9 C(1H)      hyb=5 v,d=4,3\n",
      " 10 C(1H)      hyb=5 v,d=4,3\n",
      " 11 C          hyb=2 v,d=4,3\n",
      " 12 C          hyb=5 v,d=4,3\n",
      " 13 C          hyb=5 v,d=4,3\n",
      " 14 N          hyb=5 v,d=3,2\n",
      " 15 C(1H)      hyb=5 v,d=4,3\n",
      " 16 C(2H)      hyb=3 v,d=4,4\n",
      " 17 C          hyb=2 v,d=4,3\n",
      " 18 N(1H)      hyb=2 v,d=3,3\n",
      " 19 N          hyb=2 v,d=3,3\n",
      " 20 O          hyb=2 v,d=2,1\n",
      " 21 C          hyb=5 v,d=4,3\n",
      " 22 C(2H)      hyb=3 v,d=4,4\n",
      " 23 C(1H)      hyb=5 v,d=4,3\n",
      " 24 N          hyb=5 v,d=3,2\n",
      " 25 C(2H)      hyb=3 v,d=4,4\n",
      " 26 C(1H)      hyb=5 v,d=4,3\n",
      " 27 C(1H)      hyb=5 v,d=4,3\n",
      " 28 C          hyb=5 v,d=4,3\n",
      " 29 C(1H)      hyb=5 v,d=4,3\n",
      " 30 O          hyb=2 v,d=2,1\n",
      " 31 O(1H)      hyb=2 v,d=2,2\n",
      " 32 C          hyb=2 v,d=4,3\n",
      " 33 N(1H)      hyb=2 v,d=3,2\n",
      " 34 N(2H)      hyb=2 v,d=3,3\n"
     ]
    }
   ],
   "source": [
    "for atom in ligand_mol.GetAtoms():\n",
    "    idx = atom.GetIdx()\n",
    "    an = atom.GetAtomicNum()\n",
    "    el = atom.GetSymbol()\n",
    "    arom = int(atom.GetIsAromatic())\n",
    "    hyb = atom.GetHybridization()\n",
    "    nH = atom.GetTotalNumHs()\n",
    "    nH = f'({nH}H)' if nH != 0 else ''\n",
    "    ch = atom.GetFormalCharge()\n",
    "    ch = '(+)' if 0 < ch else '(-)' if ch < 0 else ''\n",
    "    val = atom.GetTotalValence()\n",
    "    deg = atom.GetTotalDegree()\n",
    "    atomf = f'{idx:3d} {el}{ch}{nH}'\n",
    "    typ = {Chem.HybridizationType.SP:1, Chem.HybridizationType.SP2:2, Chem.HybridizationType.SP3:3}.get(hyb)\n",
    "    if arom:\n",
    "        typ = 5\n",
    "    print(f'{atomf:<14} hyb={typ} v,d={val},{deg}')"
   ]
  },
  {
   "cell_type": "markdown",
   "metadata": {},
   "source": [
    "### Run Flare"
   ]
  },
  {
   "cell_type": "raw",
   "metadata": {},
   "source": [
    "sp.call('flare -c y -m protein pocket.pdb -c y -m ligand ligand.pdb', shell=True)"
   ]
  },
  {
   "cell_type": "code",
   "execution_count": null,
   "metadata": {},
   "outputs": [],
   "source": []
  }
 ],
 "metadata": {
  "kernelspec": {
   "display_name": "Python 3",
   "language": "python",
   "name": "python3"
  },
  "language_info": {
   "codemirror_mode": {
    "name": "ipython",
    "version": 3
   },
   "file_extension": ".py",
   "mimetype": "text/x-python",
   "name": "python",
   "nbconvert_exporter": "python",
   "pygments_lexer": "ipython3",
   "version": "3.7.7"
  }
 },
 "nbformat": 4,
 "nbformat_minor": 4
}
