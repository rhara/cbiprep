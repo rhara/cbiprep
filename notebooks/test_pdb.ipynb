{
 "cells": [
  {
   "cell_type": "code",
   "execution_count": null,
   "metadata": {},
   "outputs": [],
   "source": [
    "%load_ext autoreload\n",
    "%autoreload 2"
   ]
  },
  {
   "cell_type": "code",
   "execution_count": null,
   "metadata": {},
   "outputs": [],
   "source": [
    "import pandas as pd\n",
    "import numpy as np\n",
    "from rdkit import Chem\n",
    "from cbiprep.pdbatoms import PDBAtoms\n",
    "from cbiprep.matrix import GetTopologicalMatrix\n",
    "from cbiprep.ligand_expo import LigandExpo\n",
    "from cbiprep.atomtyper import AtomTyper, HybAtomTyper, GetAtomVector\n",
    "import subprocess as sp\n",
    "\n",
    "np.set_printoptions(edgeitems=10)"
   ]
  },
  {
   "cell_type": "code",
   "execution_count": null,
   "metadata": {},
   "outputs": [],
   "source": [
    "pdb_atoms = PDBAtoms('pdb/4jn2.pdb.gz')"
   ]
  },
  {
   "cell_type": "code",
   "execution_count": null,
   "metadata": {},
   "outputs": [],
   "source": [
    "pdb_atoms.get_ligand_names()"
   ]
  },
  {
   "cell_type": "code",
   "execution_count": null,
   "metadata": {},
   "outputs": [],
   "source": [
    "ligand_atoms = pdb_atoms.get_ligand('4CC')"
   ]
  },
  {
   "cell_type": "code",
   "execution_count": null,
   "metadata": {},
   "outputs": [],
   "source": [
    "len(ligand_atoms)"
   ]
  },
  {
   "cell_type": "code",
   "execution_count": null,
   "metadata": {},
   "outputs": [],
   "source": [
    "protein_atoms = pdb_atoms.get_relevant_protein(ligand_atoms)"
   ]
  },
  {
   "cell_type": "code",
   "execution_count": null,
   "metadata": {},
   "outputs": [],
   "source": [
    "len(protein_atoms)"
   ]
  },
  {
   "cell_type": "code",
   "execution_count": null,
   "metadata": {
    "scrolled": false
   },
   "outputs": [],
   "source": [
    "pocket_atoms = protein_atoms.get_pocket(ligand_atoms, thres=5)\n",
    "open('pocket.pdb', 'wt').write(str(pocket_atoms)+'\\n')"
   ]
  },
  {
   "cell_type": "code",
   "execution_count": null,
   "metadata": {},
   "outputs": [],
   "source": [
    "len(pocket_atoms)"
   ]
  },
  {
   "cell_type": "markdown",
   "metadata": {},
   "source": [
    "### Test distance-based adjacency matrix"
   ]
  },
  {
   "cell_type": "raw",
   "metadata": {
    "scrolled": true
   },
   "source": [
    "lig_adjmat = ligand_atoms.get_distance_based_adjacency_matrix(ligand_atoms, thres=4.0, diagzero=True)\n",
    "lig_adjmat"
   ]
  },
  {
   "cell_type": "raw",
   "metadata": {},
   "source": [
    "pocket_adjmat = pocket_atoms.get_distance_based_adjacency_matrix(pocket_atoms, thres=4.0, diagzero=True)\n",
    "pocket_adjmat"
   ]
  },
  {
   "cell_type": "raw",
   "metadata": {
    "scrolled": true
   },
   "source": [
    "complex_adjmat = ligand_atoms.get_distance_based_adjacency_matrix(pocket_atoms, thres=4.0)\n",
    "complex_adjmat"
   ]
  },
  {
   "cell_type": "markdown",
   "metadata": {},
   "source": [
    "### Padding"
   ]
  },
  {
   "cell_type": "markdown",
   "metadata": {},
   "source": [
    "<img src=\"padding.png\" width=\"40%\" align=\"left\" />"
   ]
  },
  {
   "cell_type": "raw",
   "metadata": {},
   "source": [
    "M = 50\n",
    "N = 400"
   ]
  },
  {
   "cell_type": "raw",
   "metadata": {},
   "source": [
    "m = lig_adjmat.shape[0]\n",
    "n = pocket_adjmat.shape[0]\n",
    "m, M, n, N"
   ]
  },
  {
   "cell_type": "raw",
   "metadata": {},
   "source": [
    "mat = np.zeros((M+N, M+N), dtype=int)\n",
    "mat.shape"
   ]
  },
  {
   "cell_type": "raw",
   "metadata": {
    "scrolled": false
   },
   "source": [
    "mat[0:m,0:m] = lig_adjmat\n",
    "mat[M:M+n,M:M+n] = pocket_adjmat\n",
    "mat[0:m, M:M+n] = complex_adjmat\n",
    "mat[M:M+n, 0:m] = complex_adjmat.T\n",
    "mat"
   ]
  },
  {
   "cell_type": "markdown",
   "metadata": {},
   "source": [
    "### GetTopologicalMatrix as a function"
   ]
  },
  {
   "cell_type": "code",
   "execution_count": null,
   "metadata": {},
   "outputs": [],
   "source": [
    "mat = GetTopologicalMatrix(ligand_atoms, pocket_atoms)\n",
    "mat"
   ]
  },
  {
   "cell_type": "markdown",
   "metadata": {},
   "source": [
    "### Test atom typings"
   ]
  },
  {
   "cell_type": "code",
   "execution_count": null,
   "metadata": {},
   "outputs": [],
   "source": [
    "expo_dic = LigandExpo()\n",
    "ligand_mol = expo_dic.assign(ligand_atoms, '4CC')\n",
    "print(Chem.MolToSmiles(ligand_mol))"
   ]
  },
  {
   "cell_type": "code",
   "execution_count": null,
   "metadata": {},
   "outputs": [],
   "source": [
    "ligand_thres = 50\n",
    "pocket_thres = 400"
   ]
  },
  {
   "cell_type": "code",
   "execution_count": null,
   "metadata": {},
   "outputs": [],
   "source": [
    "atomtyper = HybAtomTyper"
   ]
  },
  {
   "cell_type": "raw",
   "metadata": {},
   "source": [
    "ligand_types = atomtyper(ligand_mol)\n",
    "ligand_types"
   ]
  },
  {
   "cell_type": "raw",
   "metadata": {
    "scrolled": false
   },
   "source": [
    "pocket_mol = Chem.MolFromPDBBlock(str(pocket_atoms))\n",
    "pocket_types = atomtyper(pocket_mol)\n",
    "pocket_types"
   ]
  },
  {
   "cell_type": "raw",
   "metadata": {},
   "source": [
    "types_vec = np.zeros(N+M, dtype=int)\n",
    "types_vec[0:m] = ligand_types\n",
    "types_vec[M:M+n] = pocket_types\n",
    "types_vec"
   ]
  },
  {
   "cell_type": "code",
   "execution_count": null,
   "metadata": {},
   "outputs": [],
   "source": [
    "types_vec = GetAtomVector(ligand_mol, pocket_atoms, atomtyper=atomtyper)"
   ]
  },
  {
   "cell_type": "markdown",
   "metadata": {},
   "source": [
    "### Types Vec to One-Hot expression"
   ]
  },
  {
   "cell_type": "code",
   "execution_count": null,
   "metadata": {},
   "outputs": [],
   "source": [
    "onehot = np.zeros((atomtyper.MAX, ligand_thres + pocket_thres), dtype=int)\n",
    "for i, v in enumerate(types_vec):\n",
    "    if 0 < v:\n",
    "        onehot[v-1, i] = 1\n",
    "onehot"
   ]
  },
  {
   "cell_type": "markdown",
   "metadata": {},
   "source": [
    "### Supplement, for any extension"
   ]
  },
  {
   "cell_type": "code",
   "execution_count": null,
   "metadata": {},
   "outputs": [],
   "source": [
    "for atom in ligand_mol.GetAtoms():\n",
    "    idx = atom.GetIdx()\n",
    "    an = atom.GetAtomicNum()\n",
    "    el = atom.GetSymbol()\n",
    "    arom = int(atom.GetIsAromatic())\n",
    "    hyb = atom.GetHybridization()\n",
    "    nH = atom.GetTotalNumHs()\n",
    "    nH = f'({nH}H)' if nH != 0 else ''\n",
    "    ch = atom.GetFormalCharge()\n",
    "    ch = '(+)' if 0 < ch else '(-)' if ch < 0 else ''\n",
    "    val = atom.GetTotalValence()\n",
    "    deg = atom.GetTotalDegree()\n",
    "    atomf = f'{idx:3d} {el}{ch}{nH}'\n",
    "    typ = {Chem.HybridizationType.SP:1, Chem.HybridizationType.SP2:2, Chem.HybridizationType.SP3:3}.get(hyb)\n",
    "    if arom:\n",
    "        typ = 5\n",
    "    print(f'{atomf:<14} hyb={typ} v,d={val},{deg}')"
   ]
  },
  {
   "cell_type": "markdown",
   "metadata": {},
   "source": [
    "### Run Flare"
   ]
  },
  {
   "cell_type": "raw",
   "metadata": {},
   "source": [
    "sp.call('flare -c y -m protein pocket.pdb -c y -m ligand ligand.pdb', shell=True)"
   ]
  },
  {
   "cell_type": "code",
   "execution_count": null,
   "metadata": {},
   "outputs": [],
   "source": []
  }
 ],
 "metadata": {
  "kernelspec": {
   "display_name": "Python 3",
   "language": "python",
   "name": "python3"
  },
  "language_info": {
   "codemirror_mode": {
    "name": "ipython",
    "version": 3
   },
   "file_extension": ".py",
   "mimetype": "text/x-python",
   "name": "python",
   "nbconvert_exporter": "python",
   "pygments_lexer": "ipython3",
   "version": "3.7.7"
  }
 },
 "nbformat": 4,
 "nbformat_minor": 4
}
