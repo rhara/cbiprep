{
 "cells": [
  {
   "cell_type": "code",
   "execution_count": null,
   "metadata": {},
   "outputs": [],
   "source": [
    "%load_ext autoreload\n",
    "%autoreload 2"
   ]
  },
  {
   "cell_type": "markdown",
   "metadata": {},
   "source": [
    "# Maserati Data"
   ]
  },
  {
   "cell_type": "code",
   "execution_count": null,
   "metadata": {},
   "outputs": [],
   "source": [
    "from rdkit import Chem\n",
    "import pandas as pd\n",
    "import os, pickle, gzip, zipfile, shutil\n",
    "import subprocess as sp"
   ]
  },
  {
   "cell_type": "markdown",
   "metadata": {},
   "source": [
    "### Clean working directory"
   ]
  },
  {
   "cell_type": "code",
   "execution_count": null,
   "metadata": {},
   "outputs": [],
   "source": [
    "names = []\n",
    "for root, dirs, files in os.walk('work'):\n",
    "    for f in files:\n",
    "        if f.endswith('_charged.mol2'):\n",
    "            names.append(f'{root}/{f}')\n",
    "        if f.endswith('_apo.pdb'):\n",
    "            names.append(f'{root}/{f}')\n",
    "        if f.endswith('_apo.mol2'):\n",
    "            names.append(f'{root}/{f}')\n",
    "for fname in names:\n",
    "    os.unlink(fname)"
   ]
  },
  {
   "cell_type": "markdown",
   "metadata": {},
   "source": [
    "### For GNN-DTI"
   ]
  },
  {
   "cell_type": "code",
   "execution_count": null,
   "metadata": {},
   "outputs": [],
   "source": [
    "valid_dirs = []\n",
    "for root, files, dirs in os.walk('work'):\n",
    "    if os.path.exists(f'{root}/status'):\n",
    "        status = open(f'{root}/status', 'rt').read()\n",
    "    else:\n",
    "        status = None\n",
    "    if status == 'docked':\n",
    "        valid_dirs.append(root)\n",
    "len(valid_dirs)"
   ]
  },
  {
   "cell_type": "code",
   "execution_count": null,
   "metadata": {
    "scrolled": true
   },
   "outputs": [],
   "source": [
    "os.makedirs('2018', exist_ok=True)\n",
    "os.makedirs('select', exist_ok=True)\n",
    "\n",
    "df = pd.read_pickle('index_2019.pkl.gz')\n",
    "\n",
    "counts = {'select': 0, '2018': 0}\n",
    "\n",
    "for d in valid_dirs:\n",
    "    pdb_code = d[-4:]\n",
    "\n",
    "    r = df[df['pdb'] == pdb_code]\n",
    "    year = r['year'].item()\n",
    "    ligand_name = r['lig'].item()\n",
    "    select = r['select'].item()\n",
    "\n",
    "    if not select:\n",
    "        continue\n",
    "\n",
    "    if year == 2018:\n",
    "        counts['2018'] += 1\n",
    "        dest = f'2018/{pdb_code}'\n",
    "    else:\n",
    "        counts['select'] += 1\n",
    "        dest = f'select/{pdb_code}'\n",
    "\n",
    "    pocket_fname = f'{d}/{pdb_code}_pocket.pdb'\n",
    "    pocket_mol = Chem.MolFromPDBFile(pocket_fname)\n",
    "    ligand_fname = f'{d}/{ligand_name}.sdf'\n",
    "    for ligand_mol in Chem.SDMolSupplier(ligand_fname):\n",
    "        break\n",
    "    pair = (ligand_mol, pocket_mol)\n",
    "    pair_dest_fname = f'{dest}/{pdb_code}_{ligand_name}_pair.pkl.gz'\n",
    "    apo_fname = f'{d}/{pdb_code}_apo.pdb.gz'\n",
    "    value_fname = f'{d}/value'\n",
    "    data_fname = f'{d}/{pdb_code}_{ligand_name}_data.pkl.gz'\n",
    "    rmsd_fname = f'{d}/rmsd'\n",
    "    docked_fname = f'{d}/{pdb_code}_{ligand_name}_docked.sdf'\n",
    "    \n",
    "    os.makedirs(dest, exist_ok=True)\n",
    "    pickle.dump(pair, gzip.open(pair_dest_fname, 'wb'))\n",
    "    shutil.copy(pocket_fname, dest)\n",
    "    shutil.copy(apo_fname, dest)\n",
    "    shutil.copy(value_fname, dest)\n",
    "    shutil.copy(data_fname, dest)\n",
    "    shutil.copy(rmsd_fname, dest)\n",
    "    shutil.copy(docked_fname, dest)\n",
    "\n",
    "sp.call(f'tar jcvf cbidata_full.tar.bz2 2018/ select/', shell=True)\n",
    "\n",
    "shutil.rmtree('2018')\n",
    "shutil.rmtree('select')\n",
    "counts"
   ]
  },
  {
   "cell_type": "markdown",
   "metadata": {},
   "source": [
    "### For GNN-DTI Essentials (Hasegawa selection)"
   ]
  },
  {
   "cell_type": "code",
   "execution_count": null,
   "metadata": {
    "scrolled": false
   },
   "outputs": [],
   "source": [
    "os.makedirs('2018', exist_ok=True)\n",
    "os.makedirs('select', exist_ok=True)\n",
    "\n",
    "df = pd.read_pickle('index_2019.pkl.gz')\n",
    "\n",
    "counts = {'select': 0, '2018': 0}\n",
    "\n",
    "for d in valid_dirs:\n",
    "    pdb_code = d[-4:]\n",
    "\n",
    "    r = df[df['pdb'] == pdb_code]\n",
    "    year = r['year'].item()\n",
    "    ligand_name = r['lig'].item()\n",
    "    select = r['select'].item()\n",
    "\n",
    "    if not select:\n",
    "        continue\n",
    "\n",
    "    if year == 2018:\n",
    "        counts['2018'] += 1\n",
    "        dest = f'2018/{pdb_code}'\n",
    "    else:\n",
    "        counts['select'] += 1\n",
    "        dest = f'select/{pdb_code}'\n",
    "\n",
    "    pocket_fname = f'{d}/{pdb_code}_pocket.pdb'\n",
    "    pocket_mol = Chem.MolFromPDBFile(pocket_fname)\n",
    "    ligand_fname = f'{d}/{ligand_name}.sdf'\n",
    "    for ligand_mol in Chem.SDMolSupplier(ligand_fname):\n",
    "        break\n",
    "    pair = (ligand_mol, pocket_mol)\n",
    "    pair_dest_fname = f'{dest}/{pdb_code}_{ligand_name}_pair.pkl.gz'\n",
    "    value_fname = f'{d}/value'\n",
    "    \n",
    "    os.makedirs(dest, exist_ok=True)\n",
    "    pickle.dump(pair, gzip.open(pair_dest_fname, 'wb'))\n",
    "    shutil.copy(value_fname, dest)\n",
    "\n",
    "sp.call(f'tar jcvf cbidata_gnn_dti.tar.bz2 2018/ select/', shell=True)\n",
    "\n",
    "shutil.rmtree('2018')\n",
    "shutil.rmtree('select')\n",
    "counts"
   ]
  },
  {
   "cell_type": "code",
   "execution_count": null,
   "metadata": {},
   "outputs": [],
   "source": []
  }
 ],
 "metadata": {
  "kernelspec": {
   "display_name": "Python 3",
   "language": "python",
   "name": "python3"
  },
  "language_info": {
   "codemirror_mode": {
    "name": "ipython",
    "version": 3
   },
   "file_extension": ".py",
   "mimetype": "text/x-python",
   "name": "python",
   "nbconvert_exporter": "python",
   "pygments_lexer": "ipython3",
   "version": "3.7.7"
  }
 },
 "nbformat": 4,
 "nbformat_minor": 4
}
