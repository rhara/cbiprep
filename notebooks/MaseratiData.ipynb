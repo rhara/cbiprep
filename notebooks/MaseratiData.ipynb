{
 "cells": [
  {
   "cell_type": "code",
   "execution_count": null,
   "metadata": {},
   "outputs": [],
   "source": [
    "%load_ext autoreload\n",
    "%autoreload 2"
   ]
  },
  {
   "cell_type": "markdown",
   "metadata": {},
   "source": [
    "# Maserati Data"
   ]
  },
  {
   "cell_type": "code",
   "execution_count": null,
   "metadata": {},
   "outputs": [],
   "source": [
    "from rdkit import Chem\n",
    "import pandas as pd\n",
    "import os, pickle, gzip, zipfile"
   ]
  },
  {
   "cell_type": "code",
   "execution_count": null,
   "metadata": {},
   "outputs": [],
   "source": [
    "valid_dirs = []\n",
    "for root, files, dirs in os.walk('work'):\n",
    "    if os.path.exists(f'{root}/status'):\n",
    "        status = open(f'{root}/status', 'rt').read()\n",
    "    else:\n",
    "        status = None\n",
    "    if status in ['prep', 'matrix', 'docked']:\n",
    "        valid_dirs.append(root)\n",
    "len(valid_dirs)"
   ]
  },
  {
   "cell_type": "markdown",
   "metadata": {},
   "source": [
    "### For GNN-DTI"
   ]
  },
  {
   "cell_type": "code",
   "execution_count": null,
   "metadata": {
    "scrolled": true
   },
   "outputs": [],
   "source": [
    "count = 0\n",
    "os.makedirs('tmp', exist_ok=True)\n",
    "for d in valid_dirs:\n",
    "    count += 1\n",
    "    pdb_code = d[-4:]\n",
    "    pocket_fname = f'{d}/{pdb_code}_pocket.pdb'\n",
    "    pocket_mol = Chem.MolFromPDBFile(pocket_fname)\n",
    "    #print(Chem.MolToSmiles(pocket_mol))\n",
    "    for f in os.listdir(d):\n",
    "        if f.endswith('.sdf') and '_docked' not in f:\n",
    "            ligand_name = f[:3]\n",
    "            ligand_fname = f'{d}/{f}'\n",
    "            for ligand_mol in Chem.SDMolSupplier(ligand_fname):\n",
    "                break\n",
    "            break\n",
    "\n",
    "    print(count, pdb_code)\n",
    "\n",
    "    zipf = zipfile.ZipFile(f'tmp/{pdb_code}.zip', 'w')\n",
    "\n",
    "    pair_fname = f'tmp/{pdb_code}_{ligand_name}_pair.pkl.gz'\n",
    "    pair_obj = (ligand_mol, pocket_mol)\n",
    "    pickle.dump(pair_obj, gzip.open(pair_fname, 'wb'), protocol=4)\n",
    "    zipf.write(pair_fname, arcname=os.path.basename(pair_fname))\n",
    "    os.unlink(pair_fname)\n",
    "\n",
    "    apo_pdbgz = f'work/{pdb_code}/{pdb_code}_apo.pdb.gz'\n",
    "    zipf.write(apo_pdbgz, arcname=os.path.basename(apo_pdbgz))\n",
    "    \n",
    "    pocket_pdb = f'work/{pdb_code}/{pdb_code}_pocket.pdb'\n",
    "    zipf.write(pocket_pdb, arcname=os.path.basename(pocket_pdb))\n",
    "    \n",
    "    for f in os.listdir(d):\n",
    "        if f.endswith('_docked.sdf'):\n",
    "            docked_sdf = f'{d}/{f}'\n",
    "            break\n",
    "    zipf.write(docked_sdf, arcname=os.path.basename(docked_sdf))\n",
    "    \n",
    "    zipf.write(f'{d}/rmsd', arcname='rmsd')\n",
    "    zipf.write(f'{d}/value', arcname='value')\n",
    "    \n",
    "    zipf.close()"
   ]
  },
  {
   "cell_type": "markdown",
   "metadata": {},
   "source": [
    "### For GNN-DTI Essentials (Hasegawa selection)"
   ]
  },
  {
   "cell_type": "code",
   "execution_count": null,
   "metadata": {
    "scrolled": false
   },
   "outputs": [],
   "source": [
    "count = 0\n",
    "os.makedirs('tmp_2018', exist_ok=True)\n",
    "os.makedirs('tmp', exist_ok=True)\n",
    "\n",
    "df = pd.read_pickle('index_2019.pkl.gz')\n",
    "\n",
    "for d in valid_dirs:\n",
    "    select = bool(int(open(f'{d}/select', 'rt').read().strip()))\n",
    "    if not select:\n",
    "        continue\n",
    "    count += 1\n",
    "    pdb_code = d[-4:]\n",
    "    year = df[df['pdb'] == pdb_code]['year'].item()\n",
    "    pocket_fname = f'{d}/{pdb_code}_pocket.pdb'\n",
    "    pocket_mol = Chem.MolFromPDBFile(pocket_fname)\n",
    "    for f in os.listdir(d):\n",
    "        if f.endswith('.sdf') and '_docked' not in f:\n",
    "            ligand_name = f[:3]\n",
    "            ligand_fname = f'{d}/{f}'\n",
    "            for ligand_mol in Chem.SDMolSupplier(ligand_fname):\n",
    "                break\n",
    "            break\n",
    "\n",
    "    print(count, pdb_code, year)\n",
    "\n",
    "    if year == 2018:\n",
    "        tmpdir = 'tmp_2018'\n",
    "    else:\n",
    "        tmpdir = 'tmp'\n",
    "    \n",
    "    zipf = zipfile.ZipFile(f'{tmpdir}/{pdb_code}.zip', 'w')\n",
    "\n",
    "    pair_fname = f'{tmpdir}/{pdb_code}_{ligand_name}_pair.pkl.gz'\n",
    "    pair_obj = (ligand_mol, pocket_mol)\n",
    "    pickle.dump(pair_obj, gzip.open(pair_fname, 'wb'), protocol=4)\n",
    "    zipf.write(pair_fname, arcname=os.path.basename(pair_fname))\n",
    "    os.unlink(pair_fname)\n",
    "\n",
    "    zipf.write(f'{d}/value', arcname='value')\n",
    "    \n",
    "    zipf.close()"
   ]
  },
  {
   "cell_type": "code",
   "execution_count": null,
   "metadata": {},
   "outputs": [],
   "source": []
  }
 ],
 "metadata": {
  "kernelspec": {
   "display_name": "Python 3",
   "language": "python",
   "name": "python3"
  },
  "language_info": {
   "codemirror_mode": {
    "name": "ipython",
    "version": 3
   },
   "file_extension": ".py",
   "mimetype": "text/x-python",
   "name": "python",
   "nbconvert_exporter": "python",
   "pygments_lexer": "ipython3",
   "version": "3.7.7"
  }
 },
 "nbformat": 4,
 "nbformat_minor": 4
}
