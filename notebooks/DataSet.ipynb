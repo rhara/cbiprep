{
 "cells": [
  {
   "cell_type": "code",
   "execution_count": null,
   "metadata": {},
   "outputs": [],
   "source": [
    "%load_ext autoreload\n",
    "%autoreload 2"
   ]
  },
  {
   "cell_type": "markdown",
   "metadata": {},
   "source": [
    "# Dataset"
   ]
  },
  {
   "cell_type": "markdown",
   "metadata": {},
   "source": [
    "### Needs rdkit>=2020.03.3"
   ]
  },
  {
   "cell_type": "code",
   "execution_count": null,
   "metadata": {},
   "outputs": [],
   "source": [
    "import rdkit\n",
    "assert '2020.03.3' <= rdkit.__version__"
   ]
  },
  {
   "cell_type": "code",
   "execution_count": null,
   "metadata": {},
   "outputs": [],
   "source": [
    "from rdkit import Chem\n",
    "from cbiprep.ligand_expo import LigandExpo\n",
    "from cbiprep.pdbatoms import PDBAtoms\n",
    "from cbiprep.matrix import GetTopologicalMatrix\n",
    "from cbiprep.atomtyper import AtomTyper, HybAtomTyper, GetAtomVector\n",
    "from cbiprep.jupyter_utils import draw_mol, check_dir\n",
    "import pandas as pd\n",
    "import os, sys, gzip, pickle"
   ]
  },
  {
   "cell_type": "code",
   "execution_count": null,
   "metadata": {},
   "outputs": [],
   "source": [
    "lig_expo = LigandExpo()"
   ]
  },
  {
   "cell_type": "code",
   "execution_count": null,
   "metadata": {},
   "outputs": [],
   "source": [
    "df = pd.read_pickle('index_2019.pkl.gz')"
   ]
  },
  {
   "cell_type": "code",
   "execution_count": null,
   "metadata": {},
   "outputs": [],
   "source": [
    "DF = df[(df['type'] == 'Kd') & (df['lig_ok'] == True) & (df['refined'] == True)]\n",
    "DF"
   ]
  },
  {
   "cell_type": "raw",
   "metadata": {
    "scrolled": true
   },
   "source": [
    "hist_ligand = {}\n",
    "hist_pocket = {}\n",
    "for i in DF.index:\n",
    "    r = DF.loc[i]\n",
    "    pdb_code = r['pdb']\n",
    "    ligand_name = r['lig']\n",
    "    pdb_atoms = PDBAtoms(f'pdb/{pdb_code}.pdb.gz')\n",
    "    ligand_atoms = pdb_atoms.get_ligand(ligand_name)\n",
    "    if len(ligand_atoms) == 0:\n",
    "        continue\n",
    "    pocket_atoms = pdb_atoms.get_pocket(ligand_atoms, thres=4.0)\n",
    "    ligand_natoms = len(ligand_atoms)\n",
    "    pocket_natoms = len(pocket_atoms)\n",
    "    if ligand_natoms//5 not in hist_ligand:\n",
    "        hist_ligand[ligand_natoms//5] = 0\n",
    "    hist_ligand[ligand_natoms//5] += 1\n",
    "    if pocket_natoms//50 not in hist_pocket:\n",
    "        hist_pocket[pocket_natoms//50] = 0\n",
    "    hist_pocket[pocket_natoms//50] += 1"
   ]
  },
  {
   "cell_type": "raw",
   "metadata": {},
   "source": [
    "sorted(hist_ligand.items())"
   ]
  },
  {
   "cell_type": "raw",
   "metadata": {},
   "source": [
    "sorted(hist_pocket.items())"
   ]
  },
  {
   "cell_type": "markdown",
   "metadata": {},
   "source": [
    "What about ligand_thres = 60, pocket_thres = 300? Totally dimension = 400"
   ]
  },
  {
   "cell_type": "raw",
   "metadata": {},
   "source": [
    "ok = 0\n",
    "ng = 0\n",
    "for i in DF.index:\n",
    "    r = DF.loc[i]\n",
    "    pdb_code = r['pdb']\n",
    "    ligand_name = r['lig']\n",
    "    pdb_atoms = PDBAtoms(f'pdb/{pdb_code}.pdb.gz')\n",
    "    ligand_atoms = pdb_atoms.get_ligand(ligand_name)\n",
    "    if len(ligand_atoms) == 0:\n",
    "        ng += 1\n",
    "        continue\n",
    "    pocket_atoms = pdb_atoms.get_pocket(ligand_atoms, thres=4.0)\n",
    "    ligand_natoms = len(ligand_atoms)\n",
    "    pocket_natoms = len(pocket_atoms)\n",
    "    if ligand_natoms <= 60 and pocket_natoms <= 240:\n",
    "        ok += 1\n",
    "    else:\n",
    "        ng += 1\n",
    "print(ok, ng)"
   ]
  },
  {
   "cell_type": "markdown",
   "metadata": {},
   "source": [
    "### Create ligand and pocket"
   ]
  },
  {
   "cell_type": "code",
   "execution_count": null,
   "metadata": {
    "scrolled": false
   },
   "outputs": [],
   "source": [
    "ligexpo = LigandExpo()\n",
    "\n",
    "count = 0\n",
    "for i in DF.index:\n",
    "    r = DF.loc[i]\n",
    "    pdb_code = r['pdb']\n",
    "    ligand_name = r['lig']\n",
    "    \n",
    "    if os.path.exists(f'work/{pdb_code}/status'):\n",
    "        status = open(f'work/{pdb_code}/status', 'rt').read()\n",
    "    else:\n",
    "        status = None\n",
    "    if status in ['prep', 'matrix', 'docked']:\n",
    "        continue\n",
    "\n",
    "    value = r['pval'].item()\n",
    "    pdb_atoms = PDBAtoms(f'pdb/{pdb_code}.pdb.gz')\n",
    "    ligand_atoms = pdb_atoms.get_ligand(ligand_name)\n",
    "    if len(ligand_atoms) == 0:\n",
    "        continue\n",
    "    if 60 < len(ligand_atoms):\n",
    "        continue\n",
    "    smi = ligexpo[ligand_name]\n",
    "    try:\n",
    "        ligand_mol = ligexpo.assign(ligand_atoms, ligand_name)\n",
    "    except ValueError:\n",
    "        continue\n",
    "    pocket_atoms = pdb_atoms.get_pocket(ligand_atoms, thres=4.0)\n",
    "    if 240 < len(pocket_atoms):\n",
    "        continue\n",
    "    protein_atoms = pdb_atoms.get_relevant_protein(ligand_atoms, thres=5.0)\n",
    "    count += 1\n",
    "    print(count, pdb_code, ligand_name, len(ligand_atoms), len(pocket_atoms), len(protein_atoms))\n",
    "    os.makedirs(f'work/{pdb_code}', exist_ok=True)\n",
    "    open(f'work/{pdb_code}/{pdb_code}_pocket.pdb', 'wt').write(str(pocket_atoms))\n",
    "    sdwriter = Chem.SDWriter(f'work/{pdb_code}/{ligand_name}.sdf')\n",
    "    sdwriter.write(ligand_mol)\n",
    "    sdwriter.close()\n",
    "    gzip.open(f'work/{pdb_code}/{pdb_code}_apo.pdb.gz', 'wt').write(str(protein_atoms))\n",
    "    open(f'work/{pdb_code}/value', 'wt').write(str(value))\n",
    "    open(f'work/{pdb_code}/status', 'wt').write('prep')"
   ]
  },
  {
   "cell_type": "markdown",
   "metadata": {},
   "source": [
    "### Create matrices"
   ]
  },
  {
   "cell_type": "code",
   "execution_count": null,
   "metadata": {},
   "outputs": [],
   "source": [
    "valid_dirs = []\n",
    "for root, files, dirs in os.walk('work'):\n",
    "    if os.path.exists(f'{root}/status'):\n",
    "        status = open(f'{root}/status', 'rt').read()\n",
    "    else:\n",
    "        status = None\n",
    "    if status == 'prep':\n",
    "        valid_dirs.append(root)\n",
    "valid_dirs"
   ]
  },
  {
   "cell_type": "code",
   "execution_count": null,
   "metadata": {
    "scrolled": false
   },
   "outputs": [],
   "source": [
    "ng_count = 0\n",
    "count = 0\n",
    "for d in valid_dirs:\n",
    "    count += 1\n",
    "    if os.path.exists(f'{d}/status'):\n",
    "        status = open(f'{d}/status', 'rt').read()\n",
    "    else:\n",
    "        status = None\n",
    "    if status in ['matrix', 'docked']:\n",
    "        continue\n",
    "    for fname in os.listdir(d):\n",
    "        if fname.endswith('_apo.pdb.gz'):\n",
    "            pdb_code = fname[:4]\n",
    "            pdb = f'pdb/{pdb_code}.pdb.gz'\n",
    "        if fname.endswith('.sdf') and len(fname) == 7:\n",
    "            ligand_name = fname[:3]\n",
    "            ligand_sdf = f'{d}/{fname}'\n",
    "    pdb_atoms = PDBAtoms(pdb)\n",
    "    ligand_atoms = pdb_atoms.get_ligand(ligand_name)\n",
    "    pocket_atoms = pdb_atoms.get_pocket(ligand_atoms, thres=4.0)\n",
    "    mat = GetTopologicalMatrix(ligand_atoms, pocket_atoms, ligand_thres=60, pocket_thres=340)\n",
    "    for ligand_mol in Chem.SDMolSupplier(ligand_sdf):\n",
    "        break\n",
    "    try:\n",
    "        types_vec = GetAtomVector(ligand_mol, pocket_atoms, atomtyper=HybAtomTyper, ligand_thres=60, pocket_thres=340)\n",
    "    except:\n",
    "        ng_count += 1\n",
    "        print(ng_count, count, pdb_code)\n",
    "        continue\n",
    "    data = dict(A=types_vec, D=mat)\n",
    "    pickle.dump(data, gzip.open(f'{d}/{pdb_code}_{ligand_name}_data.pkl.gz', 'wb'), protocol=4)\n",
    "    open(f'{d}/status', 'wt').write('matrix')\n",
    "print(ng_count, count)"
   ]
  },
  {
   "cell_type": "code",
   "execution_count": null,
   "metadata": {},
   "outputs": [],
   "source": []
  }
 ],
 "metadata": {
  "kernelspec": {
   "display_name": "Python 3",
   "language": "python",
   "name": "python3"
  },
  "language_info": {
   "codemirror_mode": {
    "name": "ipython",
    "version": 3
   },
   "file_extension": ".py",
   "mimetype": "text/x-python",
   "name": "python",
   "nbconvert_exporter": "python",
   "pygments_lexer": "ipython3",
   "version": "3.7.7"
  }
 },
 "nbformat": 4,
 "nbformat_minor": 4
}
