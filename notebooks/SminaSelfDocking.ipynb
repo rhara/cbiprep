{
 "cells": [
  {
   "cell_type": "code",
   "execution_count": null,
   "metadata": {},
   "outputs": [],
   "source": [
    "%load_ext autoreload\n",
    "%autoreload 2"
   ]
  },
  {
   "cell_type": "markdown",
   "metadata": {},
   "source": [
    "# SMINA Self docking"
   ]
  },
  {
   "cell_type": "code",
   "execution_count": null,
   "metadata": {},
   "outputs": [],
   "source": [
    "import os\n",
    "from cbiprep.smina import RunSmina, CheckRMSD"
   ]
  },
  {
   "cell_type": "code",
   "execution_count": null,
   "metadata": {},
   "outputs": [],
   "source": [
    "valid_dirs = []\n",
    "for root, files, dirs in os.walk('work'):\n",
    "    if os.path.exists(f'{root}/status'):\n",
    "        status = open(f'{root}/status', 'rt').read()\n",
    "    else:\n",
    "        status = None\n",
    "    if status in ['matrix']:\n",
    "        valid_dirs.append(root)\n",
    "valid_dirs"
   ]
  },
  {
   "cell_type": "code",
   "execution_count": null,
   "metadata": {
    "scrolled": true
   },
   "outputs": [],
   "source": [
    "count = 0\n",
    "for d in valid_dirs:\n",
    "    count += 1\n",
    "    if os.path.exists(f'{d}/status'):\n",
    "        status = open(f'{d}/status', 'rt').read()\n",
    "    else:\n",
    "        status = None\n",
    "    if status == 'docked':\n",
    "        continue\n",
    "\n",
    "    for fname in os.listdir(d):\n",
    "        if fname.endswith('_apo.pdb.gz'):\n",
    "            pdb_code = fname[:4]\n",
    "        if fname.endswith('.sdf') and len(fname) == 7:\n",
    "            ligand_name = fname[:3]\n",
    "    print(pdb_code, ligand_name)\n",
    "    docked_sdf = RunSmina(pdb_code, ligand_name)\n",
    "    rmsd_oname = f'work/{pdb_code}/rmsd'\n",
    "    with open(rmsd_oname, 'wt') as out:\n",
    "        for i, rmsd in enumerate(CheckRMSD(pdb_code, ligand_name, docked_sdf), start=1):\n",
    "            print(i, rmsd)\n",
    "            print(i, rmsd, file=out)\n",
    "    open(f'{d}/status', 'wt').write('docked')"
   ]
  },
  {
   "cell_type": "code",
   "execution_count": null,
   "metadata": {},
   "outputs": [],
   "source": []
  }
 ],
 "metadata": {
  "kernelspec": {
   "display_name": "Python 3",
   "language": "python",
   "name": "python3"
  },
  "language_info": {
   "codemirror_mode": {
    "name": "ipython",
    "version": 3
   },
   "file_extension": ".py",
   "mimetype": "text/x-python",
   "name": "python",
   "nbconvert_exporter": "python",
   "pygments_lexer": "ipython3",
   "version": "3.7.7"
  }
 },
 "nbformat": 4,
 "nbformat_minor": 4
}
