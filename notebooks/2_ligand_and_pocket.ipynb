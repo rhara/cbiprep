{
 "cells": [
  {
   "cell_type": "code",
   "execution_count": null,
   "metadata": {},
   "outputs": [],
   "source": [
    "%load_ext autoreload\n",
    "%autoreload 2"
   ]
  },
  {
   "cell_type": "markdown",
   "metadata": {},
   "source": [
    "# Ligand and Pocket"
   ]
  },
  {
   "cell_type": "markdown",
   "metadata": {},
   "source": [
    "### Needs rdkit>=2020.03.3"
   ]
  },
  {
   "cell_type": "code",
   "execution_count": null,
   "metadata": {},
   "outputs": [],
   "source": [
    "import rdkit\n",
    "assert '2020.03.3' <= rdkit.__version__\n",
    "\n",
    "from rdkit import Chem\n",
    "from cbiprep.ligand_expo import LigandExpo\n",
    "from cbiprep.pdbatoms import PDBAtoms\n",
    "from cbiprep.matrix import GetTopologicalMatrix\n",
    "from cbiprep.atomtyper import GetAtomVector, HybAtomTyper\n",
    "import pandas as pd\n",
    "import os, sys, gzip, pickle, glob, shutil\n",
    "import subprocess as sp"
   ]
  },
  {
   "cell_type": "code",
   "execution_count": null,
   "metadata": {},
   "outputs": [],
   "source": [
    "ligexpo = LigandExpo()"
   ]
  },
  {
   "cell_type": "code",
   "execution_count": null,
   "metadata": {},
   "outputs": [],
   "source": [
    "df = pd.read_pickle('index_2019.pkl.gz')\n",
    "df_selection = df[(df['type'] == 'Kd') & (df['lig_ok'] == True) & (df['select'] == True)]"
   ]
  },
  {
   "cell_type": "code",
   "execution_count": null,
   "metadata": {},
   "outputs": [],
   "source": [
    "df = pd.read_pickle('index_2019.pkl.gz')\n",
    "df_selection = df[df['lig_ok'] & df['refined']]"
   ]
  },
  {
   "cell_type": "markdown",
   "metadata": {},
   "source": [
    "### Create ligand and pocket"
   ]
  },
  {
   "cell_type": "code",
   "execution_count": null,
   "metadata": {},
   "outputs": [],
   "source": [
    "def get_pocket_atoms(protein_atoms, ligand_atoms, n_atoms=150):\n",
    "    dist = {}\n",
    "    for atom in protein_atoms:\n",
    "        chainID = atom['chainID']\n",
    "        resSeq = atom['resSeq']\n",
    "        iCode = atom['iCode']\n",
    "        _one_atom = PDBAtoms()\n",
    "        _one_atom.append(atom)\n",
    "        d = _one_atom.get_distance_matrix(ligand_atoms)[0].min()\n",
    "        if (chainID, resSeq, iCode) not in dist:\n",
    "            dist[chainID, resSeq, iCode] = [d]\n",
    "        else:\n",
    "            dist[chainID, resSeq, iCode].append(d)\n",
    "    for k in dist:\n",
    "        dist[k] = sorted(dist[k])\n",
    "    dist = sorted(dist.items(), key=lambda x: x[1][0])\n",
    "    resSeqs = []\n",
    "    atom_count = 0\n",
    "    for resSeq, ds in dist:\n",
    "        next_count = len(ds)\n",
    "        if n_atoms < atom_count + next_count:\n",
    "            break\n",
    "        atom_count += next_count\n",
    "        resSeqs.append(resSeq)\n",
    "    resSeqs = set(resSeqs)\n",
    "\n",
    "    pocket_atoms = PDBAtoms()\n",
    "    for atom in protein_atoms:\n",
    "        chainID = atom['chainID']\n",
    "        resSeq = atom['resSeq']\n",
    "        iCode = atom['iCode']\n",
    "        if (chainID, resSeq, iCode) in resSeqs:\n",
    "            pocket_atoms.append(atom)\n",
    "\n",
    "    return pocket_atoms\n",
    "\n",
    "def get_ligand_atoms(pdb_atoms, pdb_code, ligand_name, atomic_nums):\n",
    "    ligand_atoms = pdb_atoms.get_ligand(ligand_name)\n",
    "    if len(ligand_atoms) == 0:\n",
    "        errors = f'{ligand_name} not in {pdb_code}'\n",
    "        print(errors)\n",
    "        return None, None\n",
    "    if 60 < len(ligand_atoms):\n",
    "        errors = f'{ligand_name} in {pdb_code} is too big'\n",
    "        print(errors)\n",
    "        return None, None\n",
    "    smi = ligexpo[ligand_name]\n",
    "    try:\n",
    "        ligand_mol = ligexpo.assign(ligand_atoms, ligand_name)\n",
    "    except:\n",
    "        errors = f'{ligand_name} in {pdb_code} could not be structure assigned'\n",
    "        print(errors)\n",
    "        return None, None\n",
    "    d = set([atom.GetAtomicNum() for atom in ligand_mol.GetAtoms()]) - set(atomic_nums)\n",
    "    if 0 < len(d):\n",
    "        errors = f'{ligand_name} in {pdb_code} has unk atoms'\n",
    "        print(errors)\n",
    "        return None, None\n",
    "    return ligand_atoms, ligand_mol"
   ]
  },
  {
   "cell_type": "code",
   "execution_count": null,
   "metadata": {
    "scrolled": true
   },
   "outputs": [],
   "source": [
    "count = 0\n",
    "for i in df_selection.index:\n",
    "    r = df_selection.loc[i]\n",
    "\n",
    "    pdb_code = r['pdb']\n",
    "    ligand_name = r['lig']\n",
    "    year = r['year'].item()\n",
    "    value = r['pval'].item()\n",
    "\n",
    "    pdb_atoms = PDBAtoms(f'pdb/{pdb_code}.pdb.gz', removeWater=False, removeHet=False)\n",
    "    ligand_atoms, ligand_mol = get_ligand_atoms(pdb_atoms, pdb_code, ligand_name, [6, 7, 8, 9, 15, 16, 17, 35])\n",
    "\n",
    "    if not ligand_atoms:\n",
    "        continue\n",
    "        \n",
    "    if not ligand_mol:\n",
    "        continue\n",
    "\n",
    "    protein_atoms = pdb_atoms.get_protein()\n",
    "    pocket_atoms = get_pocket_atoms(protein_atoms, ligand_atoms, n_atoms=150)\n",
    "    if len(pocket_atoms) == 0:\n",
    "        continue\n",
    "\n",
    "    count += 1\n",
    "    print(count, pdb_code, ligand_name, len(ligand_atoms), len(pocket_atoms), len(protein_atoms))\n",
    "\n",
    "    os.makedirs(f'work/{pdb_code}', exist_ok=True)\n",
    "    open(f'work/{pdb_code}/{pdb_code}_pocket.pdb', 'wt').write(str(pocket_atoms))\n",
    "\n",
    "    sdwriter = Chem.SDWriter(f'work/{pdb_code}/{ligand_name}.sdf')\n",
    "    sdwriter.write(ligand_mol)\n",
    "    sdwriter.close()\n",
    "    gzip.open(f'work/{pdb_code}/{pdb_code}_apo.pdb.gz', 'wt').write(str(protein_atoms))\n",
    "    open(f'work/{pdb_code}/year', 'wt').write(str(year))\n",
    "    open(f'work/{pdb_code}/value', 'wt').write(str(value))    "
   ]
  },
  {
   "cell_type": "code",
   "execution_count": null,
   "metadata": {},
   "outputs": [],
   "source": [
    "len(df_selection)"
   ]
  },
  {
   "cell_type": "code",
   "execution_count": null,
   "metadata": {
    "scrolled": true
   },
   "outputs": [],
   "source": [
    "out = open('keys_refined.txt', 'wt')\n",
    "\n",
    "count = 0\n",
    "for d in glob.glob('work/*'):\n",
    "    pdb_code = os.path.basename(d)\n",
    "    if len(pdb_code) != 4:\n",
    "        continue\n",
    "    sdf_name = None\n",
    "    for f in os.listdir(d):\n",
    "        if f.endswith('.sdf'):\n",
    "            sdf_name = f'{d}/{f}'\n",
    "            break\n",
    "    if not sdf_name:\n",
    "        continue\n",
    "    ligand_mol = Chem.MolFromMolFile(sdf_name)\n",
    "    if not ligand_mol:\n",
    "        print(pdb_code)\n",
    "        continue\n",
    "    r = df_selection[df_selection['pdb'] == pdb_code]\n",
    "    ligand_name = r['lig'].item()\n",
    "    year = r['year'].item()\n",
    "    pval = r['pval'].item()\n",
    "    count += 1\n",
    "    print(pdb_code, ligand_name, year, pval, sep='\\t', file=out)\n",
    "\n",
    "out.close()\n",
    "count"
   ]
  },
  {
   "cell_type": "markdown",
   "metadata": {},
   "source": [
    "5c1m"
   ]
  },
  {
   "cell_type": "markdown",
   "metadata": {},
   "source": [
    "<hr/>"
   ]
  },
  {
   "cell_type": "markdown",
   "metadata": {},
   "source": [
    "### Below are obsolete"
   ]
  },
  {
   "cell_type": "code",
   "execution_count": null,
   "metadata": {},
   "outputs": [],
   "source": []
  },
  {
   "cell_type": "markdown",
   "metadata": {},
   "source": [
    "### Create matrices"
   ]
  },
  {
   "cell_type": "code",
   "execution_count": null,
   "metadata": {},
   "outputs": [],
   "source": [
    "todo = []\n",
    "for root, dirs, files in os.walk('work'):\n",
    "    ligand_name = None\n",
    "    pdb_code = None\n",
    "    for f in files:\n",
    "        if f.endswith('.sdf') and len(f) == 7:\n",
    "            ligand_name = f[:3]\n",
    "            pdb_code = os.path.basename(root)\n",
    "            break\n",
    "    if not pdb_code or not ligand_name:\n",
    "        continue\n",
    "    test = f'{root}/{pdb_code}_{ligand_name}_data.pkl.gz'\n",
    "    if os.path.exists(test):\n",
    "        continue\n",
    "    todo.append((pdb_code, ligand_name))\n",
    "len(todo)"
   ]
  },
  {
   "cell_type": "code",
   "execution_count": null,
   "metadata": {
    "scrolled": true
   },
   "outputs": [],
   "source": [
    "LIGAND_THRES = 60\n",
    "POCKET_THRES = 240\n",
    "DISTANCE_THRES = 4.0\n",
    "METHOD = 'inclusive'\n",
    "\n",
    "ng_count = 0\n",
    "count = 0\n",
    "for pdb_code, ligand_name in todo:\n",
    "    count += 1\n",
    "    pdb_fname = f'pdb/{pdb_code}.pdb.gz'\n",
    "    pdb_atoms = PDBAtoms(pdb_fname, removeWater=True)\n",
    "    ligand_atoms = pdb_atoms.get_ligand(ligand_name)\n",
    "    pocket_atoms = pdb_atoms.get_interacting_chains(ligand_atoms).get_pocket(ligand_atoms, thres=DISTANCE_THRES, method=METHOD)\n",
    "    print(count, pdb_code, len(pocket_atoms), ligand_name)\n",
    "    mat = GetTopologicalMatrix(ligand_atoms, pocket_atoms, ligand_thres=60, pocket_thres=240)\n",
    "    ligand_sdf = f'work/{pdb_code}/{ligand_name}.sdf'\n",
    "    for ligand_mol in Chem.SDMolSupplier(ligand_sdf):\n",
    "        break\n",
    "    if not ligand_mol:\n",
    "        ng_count += 1\n",
    "        print('Error', count, pdb_code, 'ligand_error', file=sys.stderr)\n",
    "        continue\n",
    "    try:\n",
    "        types_vec = GetAtomVector(ligand_mol, pocket_atoms, atomtyper=HybAtomTyper, ligand_thres=LIGAND_THRES, pocket_thres=POCKET_THRES)\n",
    "    except:\n",
    "        ng_count += 1\n",
    "        print('Error', count, pdb_code, 'vector_error', file=sys.stderr)\n",
    "        continue\n",
    "    data = dict(A=types_vec, B=mat)\n",
    "    pickle.dump(data, gzip.open(f'work/{pdb_code}/{pdb_code}_{ligand_name}_data.pkl.gz', 'wb'), protocol=4)\n",
    "print(ng_count, count)"
   ]
  },
  {
   "cell_type": "markdown",
   "metadata": {},
   "source": [
    "<hr/>"
   ]
  },
  {
   "cell_type": "code",
   "execution_count": null,
   "metadata": {},
   "outputs": [],
   "source": [
    "len(glob.glob('work/*/*_data.pkl.gz'))"
   ]
  },
  {
   "cell_type": "code",
   "execution_count": null,
   "metadata": {},
   "outputs": [],
   "source": [
    "len(glob.glob('work/*/*_pair.pkl.gz'))"
   ]
  },
  {
   "cell_type": "markdown",
   "metadata": {},
   "source": [
    "<hr/>"
   ]
  },
  {
   "cell_type": "code",
   "execution_count": null,
   "metadata": {},
   "outputs": [],
   "source": [
    "todo = []\n",
    "for root, dirs, files in os.walk('work'):\n",
    "    ligand_name = None\n",
    "    pdb_code = None\n",
    "    for f in files:\n",
    "        if f.endswith('.sdf') and len(f) == 7:\n",
    "            ligand_name = f[:3]\n",
    "            pdb_code = os.path.basename(root)\n",
    "            break\n",
    "    if not pdb_code or not ligand_name:\n",
    "        continue\n",
    "    test1 = f'{root}/{ligand_name}.sdf'\n",
    "    test2 = f'{root}/{pdb_code}_pocket.pdb'\n",
    "    if not (os.path.exists(test1) and os.path.exists(test2)):\n",
    "        continue\n",
    "    todo.append((pdb_code, ligand_name))\n",
    "len(todo)"
   ]
  },
  {
   "cell_type": "code",
   "execution_count": null,
   "metadata": {},
   "outputs": [],
   "source": [
    "os.makedirs('2018', exist_ok=True)\n",
    "os.makedirs('select', exist_ok=True)\n",
    "\n",
    "df = pd.read_pickle('index_2019.pkl.gz')\n",
    "\n",
    "counts = {'select': 0, '2018': 0}\n",
    "\n",
    "for pdb_code, ligand_name in todo:\n",
    "    r = df[df['pdb'] == pdb_code]\n",
    "    year = r['year'].item()\n",
    "    ligand_name = r['lig'].item()\n",
    "    select = r['select'].item()\n",
    "\n",
    "    if year == 2018:\n",
    "        counts['2018'] += 1\n",
    "        dest = f'2018/{pdb_code}'\n",
    "    else:\n",
    "        counts['select'] += 1\n",
    "        dest = f'select/{pdb_code}'\n",
    "    \n",
    "    os.makedirs(dest, exist_ok=True)\n",
    "\n",
    "    ligand_fname = f'work/{pdb_code}/{ligand_name}.sdf'\n",
    "    shutil.copy(ligand_fname, dest)\n",
    "    pocket_fname = f'work/{pdb_code}/{pdb_code}_pocket.pdb'\n",
    "    shutil.copy(pocket_fname, dest)\n",
    "    value_fname = f'work/{pdb_code}/value'\n",
    "    shutil.copy(value_fname, dest)\n",
    "\n",
    "sp.call(f'tar jcvf cbidata_gnn_dti.tar.bz2 2018/ select/', shell=True)\n",
    "\n",
    "shutil.rmtree('2018')\n",
    "shutil.rmtree('select')\n",
    "counts"
   ]
  },
  {
   "cell_type": "markdown",
   "metadata": {},
   "source": [
    "<hr/>"
   ]
  },
  {
   "cell_type": "code",
   "execution_count": null,
   "metadata": {},
   "outputs": [],
   "source": [
    "of_select = open('keys_select', 'wt')\n",
    "of_2018 = open('keys_2018', 'wt')\n",
    "for pdb_code, ligand_name in sorted(todo):\n",
    "    value = float(open(f'work/{pdb_code}/value').read())\n",
    "    year = int(open(f'work/{pdb_code}/year').read())\n",
    "    ofs = of_2018 if year == 2018 else of_select\n",
    "    print(pdb_code, ligand_name, year, value, sep='\\t', file=ofs)\n",
    "of_select.close()\n",
    "of_2018.close()"
   ]
  },
  {
   "cell_type": "code",
   "execution_count": null,
   "metadata": {},
   "outputs": [],
   "source": []
  }
 ],
 "metadata": {
  "kernelspec": {
   "display_name": "Python 3",
   "language": "python",
   "name": "python3"
  },
  "language_info": {
   "codemirror_mode": {
    "name": "ipython",
    "version": 3
   },
   "file_extension": ".py",
   "mimetype": "text/x-python",
   "name": "python",
   "nbconvert_exporter": "python",
   "pygments_lexer": "ipython3",
   "version": "3.7.7"
  }
 },
 "nbformat": 4,
 "nbformat_minor": 4
}
